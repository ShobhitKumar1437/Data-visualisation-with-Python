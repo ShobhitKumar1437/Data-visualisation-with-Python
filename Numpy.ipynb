{
 "cells": [
  {
   "cell_type": "code",
   "execution_count": 2,
   "metadata": {},
   "outputs": [
    {
     "name": "stdout",
     "output_type": "stream",
     "text": [
      "    Roll no.  Marks\n",
      "0          1      4\n",
      "1          2     80\n",
      "2          3     50\n",
      "3          4     73\n",
      "4          5     63\n",
      "5          6     55\n",
      "6          7     58\n",
      "7          8     18\n",
      "8          9     22\n",
      "9         10     46\n",
      "10        11     80\n",
      "11        12     91\n",
      "12        13      0\n",
      "13        14     86\n",
      "14        15     22\n",
      "15        16     82\n",
      "16        17      0\n",
      "17        18     95\n",
      "18        19     36\n",
      "19        20     15\n",
      "20        21     82\n",
      "21        22     45\n",
      "22        23     60\n",
      "23        24     51\n",
      "24        25     57\n",
      "25        26     81\n",
      "26        27     69\n",
      "27        28     51\n",
      "28        29     87\n",
      "29        30     26\n",
      "30        31     40\n",
      "31        32     68\n",
      "32        33     24\n",
      "33        34     64\n",
      "34        35     34\n",
      "35        36     44\n",
      "36        37     83\n",
      "37        38     55\n",
      "38        39     60\n",
      "39        40     66\n",
      "40        41     86\n",
      "41        42     63\n",
      "42        43     56\n",
      "43        44     51\n",
      "44        45      8\n",
      "45        46      5\n",
      "46        47      0\n",
      "47        48     71\n",
      "48        49     40\n",
      "49        50     37\n"
     ]
    }
   ],
   "source": [
    "import numpy as np\n",
    "import pandas as pd \n",
    "np.arange(1,101,5)\n",
    "np.random.randint(10,size=5)\n",
    "data1 = {'Roll no.':np.arange(1,51),'Marks':np.random.randint(100,size= 50)}\n",
    "df=pd.DataFrame(data1)\n",
    "print(df)"
   ]
  }
 ],
 "metadata": {
  "kernelspec": {
   "display_name": "Python 3",
   "language": "python",
   "name": "python3"
  },
  "language_info": {
   "codemirror_mode": {
    "name": "ipython",
    "version": 3
   },
   "file_extension": ".py",
   "mimetype": "text/x-python",
   "name": "python",
   "nbconvert_exporter": "python",
   "pygments_lexer": "ipython3",
   "version": "3.12.2"
  }
 },
 "nbformat": 4,
 "nbformat_minor": 2
}
